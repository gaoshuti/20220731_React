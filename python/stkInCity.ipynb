{
 "cells": [
  {
   "cell_type": "code",
   "execution_count": 14,
   "id": "a249fce0",
   "metadata": {
    "ExecuteTime": {
     "end_time": "2022-11-07T08:59:42.511010Z",
     "start_time": "2022-11-07T08:59:42.505680Z"
    }
   },
   "outputs": [],
   "source": [
    "import pandas as pd\n",
    "import json\n",
    "from pyexcel_xlsx import get_data\n",
    "from os import listdir\n",
    "from pandas import DataFrame,Series\n",
    "\n"
   ]
  },
  {
   "cell_type": "code",
   "execution_count": 15,
   "id": "f0ba9722",
   "metadata": {
    "ExecuteTime": {
     "end_time": "2022-11-07T09:00:35.259102Z",
     "start_time": "2022-11-07T08:59:45.244223Z"
    }
   },
   "outputs": [
    {
     "name": "stderr",
     "output_type": "stream",
     "text": [
      "/Users/rumeng/opt/anaconda3/lib/python3.9/site-packages/openpyxl/styles/stylesheet.py:226: UserWarning: Workbook contains no default style, apply openpyxl's default\n",
      "  warn(\"Workbook contains no default style, apply openpyxl's default\")\n"
     ]
    },
    {
     "name": "stdout",
     "output_type": "stream",
     "text": [
      "['ListedCoID', 'SecurityID', 'Symbol', 'ShortName', 'EndDate', 'IndustryName', 'IndustryCode', 'RegisterAddress', 'OfficeAddress', 'Zipcode', 'Lng', 'Lat', 'FullName', 'EstablishDate', 'BusinessScope', 'RegisterLongitude', 'RegisterLatitude', 'LISTINGDATE', 'PROVINCE', 'CITY', 'MAINBUSSINESS', 'LISTINGSTATE']\n",
      "['上市公司ID', '证券ID', '股票代码', '股票简称', '年度区间', '行业名称', '行业代码', '注册具体地址', '公司办公地址', '办公地址邮政编码', '经度', '纬度', '中文全称', '公司成立日期', '经营范围', '注册地经度', '注册地纬度', '首次上市日期', '所属省份', '所属城市', '主营业务', '上市状态']\n",
      "['101704', '201000000001', '000001', '深发展A', '2000-12-31', '货币金融服务', 'J66', '中国广东省深圳市罗湖区深南东路178号深圳发展银行大厦', '中国广东省深圳市罗湖区深南东路178号深圳发展银行大厦', '518001', '114.11573928', '22.54239728', '深圳发展银行股份有限公司', '1987-12-22', '本行主营业务经营范围是经中国人民银行批准的各项商业银行业务主要包括\\n人民币外币存贷款国际国内结算票据贴现外汇买卖提供担保及信用证服务\\n提供保管箱服务等', '114.140084', '22.553181', '1991-04-03', '广东省', '深圳市', '办理人民币存、贷、结算、汇兑业务；人民币票据承兑和贴现；各项信托业务；经人民银行批准发行或买卖人民币有价证券；外汇存款、汇款；境内境外借款；在境内境外发行或代理发行外币有价证券外汇存款、汇款、境内境外汇借款等。', '正常上市']\n"
     ]
    }
   ],
   "source": [
    "sourcePath = '/Users/rumeng/Downloads/data/上市公司基本信息年度表/STK_LISTEDCOINFOANL.xlsx'\n",
    "data = get_data(sourcePath)\n",
    "# print(type(data))     \n",
    "# 可以看到, 类型为collections.OrderedDict\n",
    "# print(json.dumps(data))\n",
    "# print(data['sheet1'])\n",
    "abbrTitle=data['sheet1'][0]\n",
    "titles=data['sheet1'][1]\n",
    "info=data['sheet1'][3:]\n",
    "print(abbrTitle)\n",
    "print(titles)\n",
    "print(info[0])"
   ]
  },
  {
   "cell_type": "code",
   "execution_count": 16,
   "id": "3435a544",
   "metadata": {
    "ExecuteTime": {
     "end_time": "2022-11-07T09:00:38.583772Z",
     "start_time": "2022-11-07T09:00:38.562715Z"
    }
   },
   "outputs": [],
   "source": [
    "citys=['深圳','上海','广州','北京','成都','杭州','重庆','西安','苏州','武汉','南京','天津','郑州','长沙','东莞','佛山','宁波','青岛','沈阳','合肥']\n",
    "def handleAddress(address):\n",
    "    for i in citys:\n",
    "        if i in address:\n",
    "            return i\n",
    "    if '市' in address:\n",
    "        address = address[:address.find('市')+1]\n",
    "    elif '区' in address:\n",
    "        address = address[:address.find('区')+1]\n",
    "    elif '州' in address:\n",
    "        address = address[:address.find('州')+1]\n",
    "    elif '自治' in address:\n",
    "        address = address[:address.find('自治')+3]\n",
    "    elif address=='':\n",
    "        print('为空')\n",
    "    else:\n",
    "        print(address)\n",
    "    return address"
   ]
  },
  {
   "cell_type": "code",
   "execution_count": 18,
   "id": "f20714e1",
   "metadata": {
    "ExecuteTime": {
     "end_time": "2022-11-07T09:01:05.008203Z",
     "start_time": "2022-11-07T09:01:04.237977Z"
    }
   },
   "outputs": [
    {
     "name": "stdout",
     "output_type": "stream",
     "text": [
      "为空\n",
      "为空\n",
      "为空\n",
      "为空\n",
      "为空\n",
      "为空\n",
      "为空\n",
      "为空\n",
      "Mourant Governance Services (Cayman) Limited,94Solaris Avenue, Camana Bay,PO Box1348,Grand Cayman KY1-1108, Cayman Islands\n",
      "Conyers Trust Company (Cayman) Limited, Cricket Square, Hutchins Drive, PO  Box2681, Grand Cayman, KY1-1111, Cayman Islands\n",
      "One Nexus Way,Camana Bay,Grand Cayman,KY1-9005Cayman Islands\n",
      "Cricket Square,Hutchins Drive,P.O.Box 2681,Grand Cayman,KY1 1111 Cayman Islands\n",
      "Maples Corporate Services Limited at PO Box 309,Ugland House,Grand Cayman,KY1-1104,Cayman Islands\n",
      "为空\n",
      "为空\n",
      "为空\n",
      "为空\n",
      "为空\n",
      "为空\n",
      "        股票代码    股票简称     注册地     办公地            中文全称 所属城市\n",
      "0     000001    平安银行      深圳      深圳      平安银行股份有限公司   深圳\n",
      "1     000002     万科A      深圳      深圳      万科企业股份有限公司   深圳\n",
      "2     000003  PT 金田A      深圳      深圳    金田实业集团股份有限公司   深圳\n",
      "3     000004    国华网安      深圳      深圳  深圳国华网安科技股份有限公司   深圳\n",
      "4     000005   ST 星源      深圳      深圳    深圳世纪星源股份有限公司   深圳\n",
      "...      ...     ...     ...     ...             ...  ...\n",
      "4958  900951  ST 大化B  辽宁省大连市  辽宁省大连市  大化集团大连化工股份有限公司   大连\n",
      "4959  900953     凯马B      上海      上海      恒天凯马股份有限公司   上海\n",
      "4960  900955    茉织华B      上海      上海     上海茉织华股份有限公司   上海\n",
      "4961  900956    东贝B股  湖北省黄石市  湖北省黄石市    黄石东贝电器股份有限公司   黄石\n",
      "4962  900957    凌云B股      上海      上海  上海凌云实业发展股份有限公司   上海\n",
      "\n",
      "[4963 rows x 6 columns]\n"
     ]
    }
   ],
   "source": [
    "## 将公司按照注册地、办公地、归属地分类\n",
    "myDict = []\n",
    "stockIds = []\n",
    "length = len(info)\n",
    "objPath=''\n",
    "i=0\n",
    "\n",
    "companyInfo={'股票代码':[],'股票简称':[],'注册地':[],\n",
    "                 '办公地':[],'中文全称':[],'所属城市':[]}\n",
    "while i < length:\n",
    "    if info[i][2] not in stockIds:\n",
    "        thisStock = info[i][2]\n",
    "        stockIds.append(info[i][2])\n",
    "        i+=1\n",
    "    while i < length and info[i][2]==thisStock:\n",
    "        i+=1\n",
    "#     print('股票代码:',info[i-1][2])\n",
    "    place1=handleAddress(info[i-1][7])# 注册地\n",
    "    place2=handleAddress(info[i-1][8])# 办公地\n",
    "    place3=info[i-1][19].replace('市','')# 所属城市\n",
    "    if place1=='':\n",
    "        place1=place3\n",
    "#         print(info[i-1][2],'注册地',info[i-2][2],info[i-2][7])\n",
    "    if place2=='':\n",
    "        place2=place3\n",
    "#         print(info[i-1][2],'办公地',info[i-2][2],info[i-2][8])\n",
    "    if place3=='':\n",
    "        print(info[i-1][2],'所属地',info[i-2][2],info[i-2][9])\n",
    "    \n",
    "    companyInfo['股票代码'].append(info[i-1][2])\n",
    "    companyInfo['股票简称'].append(info[i-1][3])\n",
    "    companyInfo['注册地'].append(place1)\n",
    "    companyInfo['办公地'].append(place2)\n",
    "    companyInfo['中文全称'].append(info[i-1][12])\n",
    "    companyInfo['所属城市'].append(place3)\n",
    "#     companyInfo={'股票代码':info[i-1][2],'股票简称':info[i-1][3],'注册地':place1,\n",
    "#                  '办公地':place2,'中文全称':info[i-1][12],'所属城市':place3}\n",
    "#     myDict.append(companyInfo)\n",
    "#     j = json.dumps(companyInfo,ensure_ascii=False)  \n",
    "#     if place3 in place2 and place3 in place1:\n",
    "#         flag+=1 \n",
    "#         with open(objPath+'company/'+place3+'.json', 'a',encoding='utf-8-sig') as json_file:\n",
    "#             json_file.write(j)\n",
    "#             json_file.write('\\n') \n",
    "# #         print(info[i-1][1],info[i-1][2],info[i-1][12],place1,place2,place3)\n",
    "#         if place3 in citys:\n",
    "#             with open('/Users/rumeng/Downloads/qingzang/trainSet/city/'+place3+'.json', 'a',encoding='utf-8-sig') as json_file:\n",
    "#                 json_file.write(j)\n",
    "#                 json_file.write('\\n') \n",
    "        \n",
    "#     else:\n",
    "#         with open(objPath+'company/others.json', 'a',encoding='utf-8-sig') as json_file:\n",
    "#             json_file.write(j)\n",
    "#             json_file.write('\\n')\n",
    "# print(len(myDict))\n",
    "# print(myDict)\n",
    "resultDf = DataFrame(companyInfo)\n",
    "print(resultDf)\n",
    "resultDf.to_csv('/Users/rumeng/Downloads/qingzang/trainSet2/sqldata/stkInCity.csv', encoding='utf-8-sig')\n",
    "    "
   ]
  },
  {
   "cell_type": "code",
   "execution_count": null,
   "id": "3ac630eb",
   "metadata": {},
   "outputs": [],
   "source": []
  }
 ],
 "metadata": {
  "kernelspec": {
   "display_name": "Python 3 (ipykernel)",
   "language": "python",
   "name": "python3"
  },
  "language_info": {
   "codemirror_mode": {
    "name": "ipython",
    "version": 3
   },
   "file_extension": ".py",
   "mimetype": "text/x-python",
   "name": "python",
   "nbconvert_exporter": "python",
   "pygments_lexer": "ipython3",
   "version": "3.9.12"
  },
  "varInspector": {
   "cols": {
    "lenName": 16,
    "lenType": 16,
    "lenVar": 40
   },
   "kernels_config": {
    "python": {
     "delete_cmd_postfix": "",
     "delete_cmd_prefix": "del ",
     "library": "var_list.py",
     "varRefreshCmd": "print(var_dic_list())"
    },
    "r": {
     "delete_cmd_postfix": ") ",
     "delete_cmd_prefix": "rm(",
     "library": "var_list.r",
     "varRefreshCmd": "cat(var_dic_list()) "
    }
   },
   "types_to_exclude": [
    "module",
    "function",
    "builtin_function_or_method",
    "instance",
    "_Feature"
   ],
   "window_display": false
  }
 },
 "nbformat": 4,
 "nbformat_minor": 5
}
