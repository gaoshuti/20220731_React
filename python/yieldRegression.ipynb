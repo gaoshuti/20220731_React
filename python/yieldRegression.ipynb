{
 "cells": [
  {
   "cell_type": "code",
   "execution_count": 21,
   "id": "0c6fe9df",
   "metadata": {},
   "outputs": [],
   "source": [
    "import json\n",
    "import pandas as pd\n",
    "import numpy as np\n",
    "import matplotlib.pyplot as plt\n",
    "from pandas import DataFrame,Series\n",
    "# from sklearn.cross_validation import train_test_split\n",
    "# from sklearn.linear_model import LinearRegression\n",
    "\n",
    "cities = ['深圳','上海','广州','北京','成都','杭州','重庆','西安','苏州','武汉',\n",
    "          '南京','天津','郑州','长沙','东莞','佛山','宁波','青岛','沈阳','合肥']\n",
    "pinyin = ['shenzhen','shanghai','guangzhou','beijing','chengdu','hangzhou','chongqing','xian','suzhou','wuhan',\n",
    "          'nanjing','tianjin','zhengzhou','changsha','dongguan','foshan','ningbo','qingdao','shenyang','hefei']\n",
    "myDict = {'date':[],'max':[],'min':[],'weather':[],'wind':[],'lrad':[],'prec':[],'pres':[],\n",
    "          'shum':[],'srad':[],'tempDiff':[],'ris':[],'smb':[],'hml':[],'ret(-1)':[],'ret':[]}\n",
    "date2I = {}\n",
    "\n",
    "_ = 0\n",
    "city=cities[_]\n",
    "city2=pinyin[_]\n"
   ]
  },
  {
   "cell_type": "code",
   "execution_count": 22,
   "id": "f476786c",
   "metadata": {},
   "outputs": [],
   "source": [
    "def handleDate(date):\n",
    "    date=list(map(int,date.split('-')))\n",
    "    year=str(date[0])\n",
    "    month=str(date[1]) if date[1]>9 else '0'+str(date[1])\n",
    "    day=str(date[2]) if date[2]>9 else '0'+str(date[2])\n",
    "    return year+'-'+month+'-'+day"
   ]
  },
  {
   "cell_type": "code",
   "execution_count": 23,
   "id": "7e1e77a1",
   "metadata": {},
   "outputs": [],
   "source": [
    "def handleDate2(date):\n",
    "    x=date.find('星期')\n",
    "    y=date.find('周')\n",
    "    z=max(x,y)\n",
    "    if z==-1:\n",
    "        return date\n",
    "    else:\n",
    "        return date[:z]"
   ]
  },
  {
   "cell_type": "code",
   "execution_count": 24,
   "id": "f0cc9c32",
   "metadata": {},
   "outputs": [
    {
     "name": "stdout",
     "output_type": "stream",
     "text": [
      "6940\n"
     ]
    }
   ],
   "source": [
    "\n",
    "sourcePath = '/Users/rumeng/Downloads/qingzang/trainSet/'\n",
    "num=0\n",
    "with open(sourcePath+'climate2/'+city+'.json', 'r',encoding='utf-8-sig') as f:\n",
    "    lines = f.readlines()\n",
    "    for line in lines:\n",
    "        climateInfo = json.loads(line)\n",
    "        date=handleDate(climateInfo['date'])\n",
    "        date2I[date]=num\n",
    "        num+=1\n",
    "        myDict['date'].append(date)\n",
    "        myDict['max'].append(climateInfo['temp']['maxTemp'])\n",
    "        myDict['min'].append(climateInfo['temp']['minTemp'])\n",
    "        myDict['weather'].append('')\n",
    "        myDict['wind'].append(climateInfo['wind'])##wind风速\n",
    "        myDict['lrad'].append(climateInfo['lrad'])##lrad地面向下长波辐射\n",
    "        myDict['prec'].append(climateInfo['prec'])##prec降水率\n",
    "        myDict['pres'].append(climateInfo['pres'])##pres近地表气压\n",
    "        myDict['shum'].append(climateInfo['shum'])##shum近地表空气比湿度\n",
    "        myDict['srad'].append(climateInfo['srad'])##srad地面向下短波辐射 \n",
    "        myDict['tempDiff'].append(climateInfo['tempDiff'])##与前一日的温差\n",
    "        myDict['ris'].append('')##市场风险溢价因子\n",
    "        myDict['smb'].append('')##市值因子\n",
    "        myDict['hml'].append('')##账面市值比因子\n",
    "        myDict['ret(-1)'].append('')##动量因子，前一日的组合收益率\n",
    "        myDict['ret'].append('')##组合收益率\n",
    "        \n",
    "print(num)\n"
   ]
  },
  {
   "cell_type": "code",
   "execution_count": 244,
   "id": "da20c7e8",
   "metadata": {},
   "outputs": [],
   "source": [
    "'''\n",
    "with open(sourcePath+'weather/'+city2+'.json', 'r',encoding='utf-8-sig') as f:\n",
    "    lines = f.readlines()\n",
    "    for line in lines:\n",
    "        weatherInfo = json.loads(line)\n",
    "        time=handleDate2(weatherInfo['time'])\n",
    "        i = date2I[time]\n",
    "        if time!=myDict['date'][i]:\n",
    "            console.log('error:', weatherInfo['time'], myDict['date'][i])\n",
    "            break\n",
    "        myDict['weather'][i]=weatherInfo['weather']\n",
    "# print(myDict)\n",
    "'''"
   ]
  },
  {
   "cell_type": "code",
   "execution_count": 245,
   "id": "a27a316a",
   "metadata": {
    "collapsed": true
   },
   "outputs": [
    {
     "name": "stdout",
     "output_type": "stream",
     "text": [
      "0: 2000-01-01   \n",
      "3: 2000-01-04   \n"
     ]
    }
   ],
   "source": [
    "'''\n",
    "with open(sourcePath+'famaFrench.json', 'r',encoding='utf-8-sig') as f:\n",
    "    lines = f.readlines()\n",
    "    lastris=-1\n",
    "    lastsmb=-1\n",
    "    lasthml=-1\n",
    "    for line in lines:\n",
    "        famaInfo = json.loads(line)\n",
    "        time=handleDate2(famaInfo['Trddt'])\n",
    "        i = date2I[time]\n",
    "#         print(time,i,myDict['date'][i+1])\n",
    "        if time!=myDict['date'][i]:\n",
    "            console.log('error:', famaInfo['time'], myDict['date'][i])\n",
    "            break\n",
    "        if i+1 == len(date2I):\n",
    "            print(final)\n",
    "            break\n",
    "#         myDict['ris'][i]=famaInfo['RiskPremium']\n",
    "#         myDict['smb'][i]=famaInfo['SMB']\n",
    "#         myDict['hml'][i]=famaInfo['HML']    \n",
    "        if lastris!=-1:\n",
    "            myDict['ris'][i]=lastris\n",
    "            myDict['smb'][i]=lastsmb\n",
    "            myDict['hml'][i]=lasthml\n",
    "        lastris=famaInfo['RiskPremium']\n",
    "        lastsmb=famaInfo['SMB']\n",
    "        lasthml=famaInfo['HML']    \n",
    "print('0:',myDict['date'][0],myDict['ris'][0],myDict['smb'][0],myDict['hml'][0])\n",
    "print('3:',myDict['date'][3],myDict['ris'][3],myDict['smb'][3],myDict['hml'][3])\n",
    "# print(myDict)\n",
    "'''"
   ]
  },
  {
   "cell_type": "code",
   "execution_count": 25,
   "id": "0ef8e169",
   "metadata": {},
   "outputs": [
    {
     "name": "stdout",
     "output_type": "stream",
     "text": [
      "4602\n",
      "0: 2000-01-01   \n",
      "3: 2000-01-04   \n"
     ]
    }
   ],
   "source": [
    "\n",
    "with open(sourcePath+'explainedVariable/'+city+'.json', 'r',encoding='utf-8-sig') as f:\n",
    "    lines = f.readlines()\n",
    "    print(len(lines))\n",
    "    for line in lines:\n",
    "#         print(line)\n",
    "        eVariableInfo = json.loads(line)\n",
    "#         print(eVariableInfo['portReturn'])\n",
    "        time=handleDate2(eVariableInfo['Trddt'])\n",
    "        i = date2I[time]\n",
    "        if time!=myDict['date'][i]:\n",
    "            console.log('error:', eVariableInfo['time'], myDict['date'][i])\n",
    "            break\n",
    "        myDict['ret'][i]=eVariableInfo['portReturn']\n",
    "        if eVariableInfo['portReturn']>1:\n",
    "            print(eVariableInfo)\n",
    "            \n",
    "sumofnull=0\n",
    "for k in range(1,len(myDict['ret(-1)'])):\n",
    "    myDict['ret(-1)'][k]=myDict['ret'][k-1]\n",
    "    if myDict['ret'][k-1]=='':\n",
    "        sumofnull+=1\n",
    "# print(myDict)\n",
    "# print(sumofnull)\n",
    "print('0:',myDict['date'][0],myDict['ris'][0],myDict['smb'][0],myDict['hml'][0])\n",
    "print('3:',myDict['date'][3],myDict['ris'][3],myDict['smb'][3],myDict['hml'][3])\n"
   ]
  },
  {
   "cell_type": "code",
   "execution_count": 247,
   "id": "1ecbd0e2",
   "metadata": {},
   "outputs": [
    {
     "name": "stdout",
     "output_type": "stream",
     "text": [
      "4022     50.46\n",
      "4023    104.62\n",
      "4024     92.28\n",
      "4028     51.36\n",
      "4029     49.51\n",
      "         ...  \n",
      "6929    166.85\n",
      "6933     45.08\n",
      "6934    172.65\n",
      "6935    143.64\n",
      "6936    158.37\n",
      "Name: srad, Length: 1527, dtype: object\n",
      "6940\n",
      "1527\n"
     ]
    }
   ],
   "source": [
    "'''\n",
    "# 转换为DataFrame的数据格式\n",
    "myDf = DataFrame(myDict)\n",
    "# print(myDf)\n",
    "# print(myDf.describe())\n",
    "#缺失值检验\n",
    "myDf2 = myDf[['date','max','min','weather','wind','lrad','prec','pres',\n",
    "              'shum','srad','tempDiff','ris','smb','hml','ret(-1)','ret']]\n",
    "myDf2 = myDf2[myDf2!=''].dropna()\n",
    "print(myDf2['srad'])\n",
    "print(len(myDf))\n",
    "print(len(myDf2))\n",
    "myDf2.to_csv('/Users/rumeng/Downloads/qingzang/trainSet/data4/'+city+'.csv', encoding='utf-8-sig')\n",
    "'''"
   ]
  },
  {
   "cell_type": "code",
   "execution_count": 44,
   "id": "5eabd94c",
   "metadata": {},
   "outputs": [
    {
     "name": "stderr",
     "output_type": "stream",
     "text": [
      "/var/folders/97/t5p37xd91tbg2h4b_0h0x6t00000gn/T/ipykernel_6562/1090744607.py:4: FutureWarning: The error_bad_lines argument has been deprecated and will be removed in a future version. Use on_bad_lines in the future.\n",
      "\n",
      "\n",
      "  bigv_ds.append(pd.read_csv(sourcePath+city+'.csv',error_bad_lines=False,encoding='utf-8-sig',engine='python'))\n",
      "/var/folders/97/t5p37xd91tbg2h4b_0h0x6t00000gn/T/ipykernel_6562/1090744607.py:4: FutureWarning: The error_bad_lines argument has been deprecated and will be removed in a future version. Use on_bad_lines in the future.\n",
      "\n",
      "\n",
      "  bigv_ds.append(pd.read_csv(sourcePath+city+'.csv',error_bad_lines=False,encoding='utf-8-sig',engine='python'))\n",
      "/var/folders/97/t5p37xd91tbg2h4b_0h0x6t00000gn/T/ipykernel_6562/1090744607.py:4: FutureWarning: The error_bad_lines argument has been deprecated and will be removed in a future version. Use on_bad_lines in the future.\n",
      "\n",
      "\n",
      "  bigv_ds.append(pd.read_csv(sourcePath+city+'.csv',error_bad_lines=False,encoding='utf-8-sig',engine='python'))\n",
      "/var/folders/97/t5p37xd91tbg2h4b_0h0x6t00000gn/T/ipykernel_6562/1090744607.py:4: FutureWarning: The error_bad_lines argument has been deprecated and will be removed in a future version. Use on_bad_lines in the future.\n",
      "\n",
      "\n",
      "  bigv_ds.append(pd.read_csv(sourcePath+city+'.csv',error_bad_lines=False,encoding='utf-8-sig',engine='python'))\n",
      "/var/folders/97/t5p37xd91tbg2h4b_0h0x6t00000gn/T/ipykernel_6562/1090744607.py:4: FutureWarning: The error_bad_lines argument has been deprecated and will be removed in a future version. Use on_bad_lines in the future.\n",
      "\n",
      "\n",
      "  bigv_ds.append(pd.read_csv(sourcePath+city+'.csv',error_bad_lines=False,encoding='utf-8-sig',engine='python'))\n",
      "/var/folders/97/t5p37xd91tbg2h4b_0h0x6t00000gn/T/ipykernel_6562/1090744607.py:4: FutureWarning: The error_bad_lines argument has been deprecated and will be removed in a future version. Use on_bad_lines in the future.\n",
      "\n",
      "\n",
      "  bigv_ds.append(pd.read_csv(sourcePath+city+'.csv',error_bad_lines=False,encoding='utf-8-sig',engine='python'))\n",
      "/var/folders/97/t5p37xd91tbg2h4b_0h0x6t00000gn/T/ipykernel_6562/1090744607.py:4: FutureWarning: The error_bad_lines argument has been deprecated and will be removed in a future version. Use on_bad_lines in the future.\n",
      "\n",
      "\n",
      "  bigv_ds.append(pd.read_csv(sourcePath+city+'.csv',error_bad_lines=False,encoding='utf-8-sig',engine='python'))\n",
      "/var/folders/97/t5p37xd91tbg2h4b_0h0x6t00000gn/T/ipykernel_6562/1090744607.py:4: FutureWarning: The error_bad_lines argument has been deprecated and will be removed in a future version. Use on_bad_lines in the future.\n",
      "\n",
      "\n",
      "  bigv_ds.append(pd.read_csv(sourcePath+city+'.csv',error_bad_lines=False,encoding='utf-8-sig',engine='python'))\n",
      "/var/folders/97/t5p37xd91tbg2h4b_0h0x6t00000gn/T/ipykernel_6562/1090744607.py:4: FutureWarning: The error_bad_lines argument has been deprecated and will be removed in a future version. Use on_bad_lines in the future.\n",
      "\n",
      "\n",
      "  bigv_ds.append(pd.read_csv(sourcePath+city+'.csv',error_bad_lines=False,encoding='utf-8-sig',engine='python'))\n",
      "/var/folders/97/t5p37xd91tbg2h4b_0h0x6t00000gn/T/ipykernel_6562/1090744607.py:4: FutureWarning: The error_bad_lines argument has been deprecated and will be removed in a future version. Use on_bad_lines in the future.\n",
      "\n",
      "\n",
      "  bigv_ds.append(pd.read_csv(sourcePath+city+'.csv',error_bad_lines=False,encoding='utf-8-sig',engine='python'))\n",
      "/var/folders/97/t5p37xd91tbg2h4b_0h0x6t00000gn/T/ipykernel_6562/1090744607.py:4: FutureWarning: The error_bad_lines argument has been deprecated and will be removed in a future version. Use on_bad_lines in the future.\n",
      "\n",
      "\n",
      "  bigv_ds.append(pd.read_csv(sourcePath+city+'.csv',error_bad_lines=False,encoding='utf-8-sig',engine='python'))\n",
      "/var/folders/97/t5p37xd91tbg2h4b_0h0x6t00000gn/T/ipykernel_6562/1090744607.py:4: FutureWarning: The error_bad_lines argument has been deprecated and will be removed in a future version. Use on_bad_lines in the future.\n",
      "\n",
      "\n",
      "  bigv_ds.append(pd.read_csv(sourcePath+city+'.csv',error_bad_lines=False,encoding='utf-8-sig',engine='python'))\n",
      "/var/folders/97/t5p37xd91tbg2h4b_0h0x6t00000gn/T/ipykernel_6562/1090744607.py:4: FutureWarning: The error_bad_lines argument has been deprecated and will be removed in a future version. Use on_bad_lines in the future.\n",
      "\n",
      "\n",
      "  bigv_ds.append(pd.read_csv(sourcePath+city+'.csv',error_bad_lines=False,encoding='utf-8-sig',engine='python'))\n",
      "/var/folders/97/t5p37xd91tbg2h4b_0h0x6t00000gn/T/ipykernel_6562/1090744607.py:4: FutureWarning: The error_bad_lines argument has been deprecated and will be removed in a future version. Use on_bad_lines in the future.\n",
      "\n",
      "\n",
      "  bigv_ds.append(pd.read_csv(sourcePath+city+'.csv',error_bad_lines=False,encoding='utf-8-sig',engine='python'))\n",
      "/var/folders/97/t5p37xd91tbg2h4b_0h0x6t00000gn/T/ipykernel_6562/1090744607.py:4: FutureWarning: The error_bad_lines argument has been deprecated and will be removed in a future version. Use on_bad_lines in the future.\n",
      "\n",
      "\n",
      "  bigv_ds.append(pd.read_csv(sourcePath+city+'.csv',error_bad_lines=False,encoding='utf-8-sig',engine='python'))\n",
      "/var/folders/97/t5p37xd91tbg2h4b_0h0x6t00000gn/T/ipykernel_6562/1090744607.py:4: FutureWarning: The error_bad_lines argument has been deprecated and will be removed in a future version. Use on_bad_lines in the future.\n",
      "\n",
      "\n",
      "  bigv_ds.append(pd.read_csv(sourcePath+city+'.csv',error_bad_lines=False,encoding='utf-8-sig',engine='python'))\n",
      "/var/folders/97/t5p37xd91tbg2h4b_0h0x6t00000gn/T/ipykernel_6562/1090744607.py:4: FutureWarning: The error_bad_lines argument has been deprecated and will be removed in a future version. Use on_bad_lines in the future.\n",
      "\n",
      "\n",
      "  bigv_ds.append(pd.read_csv(sourcePath+city+'.csv',error_bad_lines=False,encoding='utf-8-sig',engine='python'))\n",
      "/var/folders/97/t5p37xd91tbg2h4b_0h0x6t00000gn/T/ipykernel_6562/1090744607.py:4: FutureWarning: The error_bad_lines argument has been deprecated and will be removed in a future version. Use on_bad_lines in the future.\n",
      "\n",
      "\n",
      "  bigv_ds.append(pd.read_csv(sourcePath+city+'.csv',error_bad_lines=False,encoding='utf-8-sig',engine='python'))\n",
      "/var/folders/97/t5p37xd91tbg2h4b_0h0x6t00000gn/T/ipykernel_6562/1090744607.py:4: FutureWarning: The error_bad_lines argument has been deprecated and will be removed in a future version. Use on_bad_lines in the future.\n",
      "\n",
      "\n",
      "  bigv_ds.append(pd.read_csv(sourcePath+city+'.csv',error_bad_lines=False,encoding='utf-8-sig',engine='python'))\n"
     ]
    },
    {
     "name": "stdout",
     "output_type": "stream",
     "text": [
      "30533\n"
     ]
    },
    {
     "name": "stderr",
     "output_type": "stream",
     "text": [
      "/var/folders/97/t5p37xd91tbg2h4b_0h0x6t00000gn/T/ipykernel_6562/1090744607.py:4: FutureWarning: The error_bad_lines argument has been deprecated and will be removed in a future version. Use on_bad_lines in the future.\n",
      "\n",
      "\n",
      "  bigv_ds.append(pd.read_csv(sourcePath+city+'.csv',error_bad_lines=False,encoding='utf-8-sig',engine='python'))\n"
     ]
    }
   ],
   "source": [
    "sourcePath='/Users/rumeng/Downloads/qingzang/trainSet/data3/'\n",
    "bigv_ds = []\n",
    "for city in cities:\n",
    "    bigv_ds.append(pd.read_csv(sourcePath+city+'.csv',error_bad_lines=False,encoding='utf-8-sig',engine='python'))\n",
    "data = pd.concat(bigv_ds)\n",
    "print(len(data))\n"
   ]
  },
  {
   "cell_type": "code",
   "execution_count": 38,
   "id": "fb45ce24",
   "metadata": {},
   "outputs": [],
   "source": [
    "# 将天气转化为雪、雨、沙尘、云量、霾、雾、冰雹、晴天的哑变量\n",
    "def handleWeather(weather):\n",
    "    state=[0,0,0,0,0,0,0,0]\n",
    "    weather=weather.replace('~','')\n",
    "    if '暴雪' in weather:\n",
    "        state[0]=4\n",
    "    elif '大雪' in weather:\n",
    "        state[0]=3\n",
    "    elif '中雪' in weather:\n",
    "        state[0]=2\n",
    "    elif '雪' in weather:\n",
    "        state[0]=1\n",
    "        \n",
    "    if '暴雨' in weather:\n",
    "        state[1]=4\n",
    "    elif '大雨' in weather:\n",
    "        state[1]=3\n",
    "    elif '中雨' in weather:\n",
    "        state[1]=2\n",
    "    elif '雨' in weather:\n",
    "        state[1]=1\n",
    "    \n",
    "    if '沙尘暴' in weather:\n",
    "        state[2]=3\n",
    "    elif '扬沙' in weather:\n",
    "        state[2]=2\n",
    "    elif '浮尘' in weather:\n",
    "        state[2]=1\n",
    "        \n",
    "    if '阴' in weather:\n",
    "        state[3]=3 \n",
    "    elif '多云' in weather:\n",
    "        state[3]=2\n",
    "    elif '少云' in weather:\n",
    "        state[3]=1\n",
    "        \n",
    "    if '霾' in weather:\n",
    "        state[4]=1\n",
    "    if '雾' in weather:\n",
    "        state[5]=1\n",
    "    if '冰雹' in weather:\n",
    "        state[6]=1\n",
    "    if weather=='晴':\n",
    "        state[7]=1\n",
    "#     if sum(state)==0 and weather!='晴':\n",
    "#         print(weather,state)\n",
    "    return state\n",
    "## 阵雪、阵雨、扬沙、雷雨、冰雹、雾、阴"
   ]
  },
  {
   "cell_type": "code",
   "execution_count": 46,
   "id": "3d4347c4",
   "metadata": {},
   "outputs": [],
   "source": [
    "# a=list(data['weather'].drop_duplicates(keep='first', inplace= False))\n",
    "# a=list(data['weather'])\n",
    "# for i in a:\n",
    "#     handleWeather(i)\n",
    "# print(a)\n",
    "data.insert(0,'sun',0)\n",
    "data.insert(0,'hail',0)\n",
    "data.insert(0,'fog',0)\n",
    "data.insert(0,'haze',0)\n",
    "data.insert(0,'cloud',0)\n",
    "data.insert(0,'sand',0)\n",
    "data.insert(0,'rain',0)\n",
    "data.insert(0,'snow',0)\n",
    "\n",
    "\n",
    "data['min']=data['min'].map(lambda x:x-273.15-20)\n",
    "data['max']=data['max'].map(lambda x:x-273.15-20)\n",
    "\n",
    "weatherIndex=11 #data3\n",
    "# weatherIndex=12 #data4\n",
    "for i in range(len(data)):\n",
    "    state=handleWeather(data.iloc[i,weatherIndex])\n",
    "    data.iloc[i,0]=state[0]\n",
    "    data.iloc[i,1]=state[1]\n",
    "    data.iloc[i,2]=state[2]\n",
    "    data.iloc[i,3]=state[3]\n",
    "    data.iloc[i,4]=state[4]\n",
    "    data.iloc[i,5]=state[5]\n",
    "    data.iloc[i,6]=state[6]\n",
    "    data.iloc[i,7]=state[7]\n",
    "    \n"
   ]
  },
  {
   "cell_type": "code",
   "execution_count": 49,
   "id": "78bc2f5b",
   "metadata": {},
   "outputs": [
    {
     "name": "stdout",
     "output_type": "stream",
     "text": [
      "count    30533.000000\n",
      "mean        -0.005875\n",
      "std          0.013753\n",
      "min         -0.091074\n",
      "25%         -0.012039\n",
      "50%         -0.005715\n",
      "75%          0.000266\n",
      "max          0.079067\n",
      "Name: ret, dtype: float64\n",
      "count    30533.000000\n",
      "mean         0.000067\n",
      "std          0.013730\n",
      "min         -0.085087\n",
      "25%         -0.005886\n",
      "50%          0.000418\n",
      "75%          0.006131\n",
      "max          0.070628\n",
      "Name: ris, dtype: float64\n",
      "count    30533.000000\n",
      "mean        -0.005942\n",
      "std          0.003226\n",
      "min         -0.025068\n",
      "25%         -0.008258\n",
      "50%         -0.006155\n",
      "75%         -0.003920\n",
      "max          0.026033\n",
      "Name: ret, dtype: float64\n"
     ]
    }
   ],
   "source": [
    "print(data['ret'].describe())\n",
    "print(data['ris'].describe())\n",
    "data['ret']=data['ret']-data['ris']\n",
    "print(data['ret'].describe())"
   ]
  },
  {
   "cell_type": "code",
   "execution_count": 50,
   "id": "38fd6b2c",
   "metadata": {},
   "outputs": [
    {
     "name": "stdout",
     "output_type": "stream",
     "text": [
      "              snow      rain      sand     cloud      haze       fog  \\\n",
      "snow      1.000000 -0.005108 -0.002180 -0.045352 -0.002045  0.012984   \n",
      "rain     -0.005108  1.000000 -0.010972 -0.349424 -0.054865 -0.024305   \n",
      "sand     -0.002180 -0.010972  1.000000 -0.017333 -0.002104 -0.001333   \n",
      "cloud    -0.045352 -0.349424 -0.017333  1.000000 -0.069053 -0.029092   \n",
      "haze     -0.002045 -0.054865 -0.002104 -0.069053  1.000000  0.051378   \n",
      "fog       0.012984 -0.024305 -0.001333 -0.029092  0.051378  1.000000   \n",
      "hail     -0.000593  0.025610 -0.000120 -0.006556 -0.000572 -0.000362   \n",
      "sun      -0.049252 -0.270988 -0.010010 -0.544769 -0.047534 -0.030122   \n",
      "max      -0.198871  0.116037 -0.000521 -0.009135 -0.100584 -0.043586   \n",
      "min      -0.138783  0.222039 -0.006815 -0.035151 -0.114727 -0.038917   \n",
      "wind      0.049051  0.058131  0.050879 -0.051519 -0.035813 -0.000025   \n",
      "prec     -0.004507  0.596830 -0.007967 -0.207246 -0.036810 -0.017639   \n",
      "pres      0.013281  0.007923  0.005961 -0.079914 -0.031679  0.008866   \n",
      "tempDiff -0.056181 -0.245668 -0.008615  0.065664  0.027433  0.005204   \n",
      "ris      -0.002451  0.009836  0.007112 -0.013926  0.003681  0.003969   \n",
      "smb       0.010557  0.019527 -0.004631 -0.000637  0.007738 -0.000879   \n",
      "hml      -0.010127 -0.016157  0.001330 -0.001213 -0.002429 -0.002655   \n",
      "ret(-1)  -0.010277 -0.020885  0.000842 -0.026759  0.013736  0.006451   \n",
      "ret      -0.020465 -0.057725  0.008168 -0.078490  0.023976 -0.016698   \n",
      "\n",
      "              hail       sun       max       min      wind      prec  \\\n",
      "snow     -0.000593 -0.049252 -0.198871 -0.138783  0.049051 -0.004507   \n",
      "rain      0.025610 -0.270988  0.116037  0.222039  0.058131  0.596830   \n",
      "sand     -0.000120 -0.010010 -0.000521 -0.006815  0.050879 -0.007967   \n",
      "cloud    -0.006556 -0.544769 -0.009135 -0.035151 -0.051519 -0.207246   \n",
      "haze     -0.000572 -0.047534 -0.100584 -0.114727 -0.035813 -0.036810   \n",
      "fog      -0.000362 -0.030122 -0.043586 -0.038917 -0.000025 -0.017639   \n",
      "hail      1.000000 -0.002722  0.002957  0.006598 -0.004197  0.001501   \n",
      "sun      -0.002722  1.000000 -0.082492 -0.161599  0.019134 -0.177321   \n",
      "max       0.002957 -0.082492  1.000000  0.809444 -0.073302  0.130597   \n",
      "min       0.006598 -0.161599  0.809444  1.000000  0.054614  0.213641   \n",
      "wind     -0.004197  0.019134 -0.073302  0.054614  1.000000  0.045434   \n",
      "prec      0.001501 -0.177321  0.130597  0.213641  0.045434  1.000000   \n",
      "pres      0.003394  0.050824 -0.077422  0.396331  0.213499  0.022550   \n",
      "tempDiff -0.003348  0.125898  0.158534  0.058979 -0.219148 -0.209693   \n",
      "ris       0.002144  0.005441 -0.007276 -0.008992  0.013686 -0.001999   \n",
      "smb       0.003469 -0.018458  0.029363  0.025950  0.006943  0.007293   \n",
      "hml      -0.000109  0.019078 -0.016984 -0.012511 -0.001665 -0.004583   \n",
      "ret(-1)  -0.002497  0.032264 -0.002462 -0.008449  0.001374 -0.002269   \n",
      "ret      -0.003650  0.082897  0.006228  0.010348 -0.025146  0.008185   \n",
      "\n",
      "              pres  tempDiff       ris       smb       hml   ret(-1)       ret  \n",
      "snow      0.013281 -0.056181 -0.002451  0.010557 -0.010127 -0.010277 -0.020465  \n",
      "rain      0.007923 -0.245668  0.009836  0.019527 -0.016157 -0.020885 -0.057725  \n",
      "sand      0.005961 -0.008615  0.007112 -0.004631  0.001330  0.000842  0.008168  \n",
      "cloud    -0.079914  0.065664 -0.013926 -0.000637 -0.001213 -0.026759 -0.078490  \n",
      "haze     -0.031679  0.027433  0.003681  0.007738 -0.002429  0.013736  0.023976  \n",
      "fog       0.008866  0.005204  0.003969 -0.000879 -0.002655  0.006451 -0.016698  \n",
      "hail      0.003394 -0.003348  0.002144  0.003469 -0.000109 -0.002497 -0.003650  \n",
      "sun       0.050824  0.125898  0.005441 -0.018458  0.019078  0.032264  0.082897  \n",
      "max      -0.077422  0.158534 -0.007276  0.029363 -0.016984 -0.002462  0.006228  \n",
      "min       0.396331  0.058979 -0.008992  0.025950 -0.012511 -0.008449  0.010348  \n",
      "wind      0.213499 -0.219148  0.013686  0.006943 -0.001665  0.001374 -0.025146  \n",
      "prec      0.022550 -0.209693 -0.001999  0.007293 -0.004583 -0.002269  0.008185  \n",
      "pres      1.000000 -0.010906 -0.003992 -0.003634  0.001787 -0.002965  0.014948  \n",
      "tempDiff -0.010906  1.000000 -0.015182 -0.020702 -0.004935  0.006494 -0.003321  \n",
      "ris      -0.003992 -0.015182  1.000000  0.284304 -0.253648 -0.000795 -0.110599  \n",
      "smb      -0.003634 -0.020702  0.284304  1.000000 -0.749730  0.121531 -0.386855  \n",
      "hml       0.001787 -0.004935 -0.253648 -0.749730  1.000000 -0.068114  0.399011  \n",
      "ret(-1)  -0.002965  0.006494 -0.000795  0.121531 -0.068114  1.000000  0.062606  \n",
      "ret       0.014948 -0.003321 -0.110599 -0.386855  0.399011  0.062606  1.000000  \n"
     ]
    }
   ],
   "source": [
    "print(data[['snow','rain','sand','cloud','haze','fog','hail','sun','max','min', \n",
    "            'weather','wind','prec','pres','tempDiff','ris','smb','hml','ret(-1)','ret']].corr())"
   ]
  },
  {
   "cell_type": "code",
   "execution_count": 296,
   "id": "cb3dbfeb",
   "metadata": {},
   "outputs": [
    {
     "name": "stdout",
     "output_type": "stream",
     "text": [
      "3042\n",
      "4884\n",
      "12996\n",
      "9611\n"
     ]
    }
   ],
   "source": [
    "\n",
    "sortRet=list(data['ret'])\n",
    "\n",
    "# sortRet.sort()\n",
    "# print(sortRet[-3053])\n",
    "print(sum(i>0.008 for i in sortRet))\n",
    "print(sum(i>=0 and i<0.008 for i in sortRet))\n",
    "print(sum(i<0 and i>-0.01 for i in sortRet))\n",
    "print(sum(i<=-0.01 for i in sortRet))\n",
    "def handleRet(ret):\n",
    "    if ret>0.008:\n",
    "        return 4\n",
    "    elif ret>=0:\n",
    "        return 3\n",
    "    elif ret>-0.01:\n",
    "        return 2\n",
    "    else:\n",
    "        return 1"
   ]
  },
  {
   "cell_type": "code",
   "execution_count": 302,
   "id": "999cb983",
   "metadata": {},
   "outputs": [
    {
     "name": "stdout",
     "output_type": "stream",
     "text": [
      "count    30533.000000\n",
      "mean         2.044444\n",
      "std          0.933437\n",
      "min          1.000000\n",
      "25%          1.000000\n",
      "50%          2.000000\n",
      "75%          3.000000\n",
      "max          4.000000\n",
      "Name: ret, dtype: float64\n"
     ]
    }
   ],
   "source": [
    "# ## 分类算法label标签类别划分\n",
    "# for i in range(len(data)):\n",
    "#     data.iloc[i,23]=handleRet(data.iloc[i,23])\n",
    "# print(data['ret'].describe())"
   ]
  },
  {
   "cell_type": "code",
   "execution_count": 337,
   "id": "446ebf44",
   "metadata": {},
   "outputs": [
    {
     "name": "stdout",
     "output_type": "stream",
     "text": [
      "count    30533.000000\n",
      "mean         8.745976\n",
      "std         11.878692\n",
      "min        -31.780000\n",
      "25%          0.090000\n",
      "50%         10.160000\n",
      "75%         18.790000\n",
      "max         30.799980\n",
      "Name: min, dtype: float64\n"
     ]
    }
   ],
   "source": [
    "print(data['min'].describe())"
   ]
  },
  {
   "cell_type": "code",
   "execution_count": 374,
   "id": "61b6bf77",
   "metadata": {},
   "outputs": [
    {
     "name": "stdout",
     "output_type": "stream",
     "text": [
      "               snow          rain          sand         cloud          haze  \\\n",
      "count  30533.000000  30533.000000  30533.000000  30533.000000  30533.000000   \n",
      "mean       0.016507      0.451806      0.000852      1.368356      0.009891   \n",
      "std        0.159391      0.792924      0.040459      1.194584      0.098962   \n",
      "min        0.000000      0.000000      0.000000      0.000000      0.000000   \n",
      "25%        0.000000      0.000000      0.000000      0.000000      0.000000   \n",
      "50%        0.000000      0.000000      0.000000      2.000000      0.000000   \n",
      "75%        0.000000      1.000000      0.000000      2.000000      0.000000   \n",
      "max        4.000000      4.000000      3.000000      3.000000      1.000000   \n",
      "\n",
      "                fog          hail           sun    Unnamed: 0           max  \\\n",
      "count  30533.000000  30533.000000  30533.000000  30533.000000  30533.000000   \n",
      "mean       0.003996      0.000033      0.184456   5491.617332      2.626254   \n",
      "std        0.063086      0.005723      0.387862    840.142871      9.895780   \n",
      "min        0.000000      0.000000      0.000000   4022.000000    -34.500000   \n",
      "25%        0.000000      0.000000      0.000000   4759.000000     -4.680000   \n",
      "50%        0.000000      0.000000      0.000000   5494.000000      4.510000   \n",
      "75%        0.000000      0.000000      0.000000   6219.000000     10.630000   \n",
      "max        1.000000      1.000000      1.000000   6936.000000     24.440000   \n",
      "\n",
      "       ...          prec           pres          shum          srad  \\\n",
      "count  ...  30533.000000   30533.000000  30533.000000  30533.000000   \n",
      "mean   ...      0.145856   98996.569472      0.009917    152.816038   \n",
      "std    ...      0.358913    3342.159536      0.007117     82.338936   \n",
      "min    ...      0.000000   88687.960000      0.000000     11.780000   \n",
      "25%    ...      0.000000   98473.470000      0.000000     80.240000   \n",
      "50%    ...      0.020000  100443.740000      0.010000    140.800000   \n",
      "75%    ...      0.110000  101035.430000      0.010000    222.910000   \n",
      "max    ...      7.330000  103861.610000      0.020000    339.070000   \n",
      "\n",
      "           tempDiff           ris           smb           hml       ret(-1)  \\\n",
      "count  30533.000000  30533.000000  30533.000000  30533.000000  30533.000000   \n",
      "mean       0.003037      0.000067      0.000414      0.000051     -0.006070   \n",
      "std        2.330225      0.013730      0.009219      0.006527      0.014869   \n",
      "min      -15.230000     -0.085087     -0.065496     -0.026765     -0.101755   \n",
      "25%       -1.190000     -0.005886     -0.003566     -0.002999     -0.012447   \n",
      "50%        0.210000      0.000418      0.001246     -0.000169     -0.005967   \n",
      "75%        1.440000      0.006131      0.005357      0.002793      0.000714   \n",
      "max       10.130000      0.070628      0.056826      0.050347      0.079067   \n",
      "\n",
      "                ret  \n",
      "count  30533.000000  \n",
      "mean      -0.005875  \n",
      "std        0.013753  \n",
      "min       -0.091074  \n",
      "25%       -0.012039  \n",
      "50%       -0.005715  \n",
      "75%        0.000266  \n",
      "max        0.079067  \n",
      "\n",
      "[8 rows x 23 columns]\n",
      "30533\n",
      "Index(['snow', 'rain', 'sand', 'cloud', 'haze', 'fog', 'hail', 'sun',\n",
      "       'Unnamed: 0', 'max', 'min', 'weather', 'wind', 'lrad', 'prec', 'pres',\n",
      "       'shum', 'srad', 'tempDiff', 'ris', 'smb', 'hml', 'ret(-1)', 'ret'],\n",
      "      dtype='object')\n",
      "雪snow 397\n",
      "雨rain 9739\n",
      "沙尘sand 15\n",
      "云量cloud 18027\n",
      "霾haze 302\n",
      "雾fog 122\n",
      "冰雹hail 1\n",
      "晴sun 5632\n",
      "count    30533.000000\n",
      "mean        -0.005875\n",
      "std          0.013753\n",
      "min         -0.091074\n",
      "25%         -0.012039\n",
      "50%         -0.005715\n",
      "75%          0.000266\n",
      "max          0.079067\n",
      "Name: ret, dtype: float64\n"
     ]
    }
   ],
   "source": [
    "print(data.describe())\n",
    "print(len(data))\n",
    "print(data.columns)\n",
    "#雪、雨、沙尘、云量、霾、雾、冰雹\n",
    "print('雪snow',30533-list(data['snow']).count(0))\n",
    "print('雨rain',30533-list(data['rain']).count(0))\n",
    "print('沙尘sand',30533-list(data['sand']).count(0))\n",
    "print('云量cloud',30533-list(data['cloud']).count(0))\n",
    "print('霾haze',30533-list(data['haze']).count(0))\n",
    "print('雾fog',30533-list(data['fog']).count(0))\n",
    "print('冰雹hail',30533-list(data['hail']).count(0))\n",
    "print('晴sun',30533-list(data['sun']).count(0))\n",
    "print(data['ret'].describe())"
   ]
  },
  {
   "cell_type": "code",
   "execution_count": 51,
   "id": "aeadc502",
   "metadata": {},
   "outputs": [],
   "source": [
    "from sklearn.model_selection import train_test_split\n",
    "from sklearn.linear_model import LinearRegression\n",
    "from sklearn.metrics import r2_score"
   ]
  },
  {
   "cell_type": "code",
   "execution_count": 55,
   "id": "06f86e0f",
   "metadata": {},
   "outputs": [
    {
     "name": "stdout",
     "output_type": "stream",
     "text": [
      "               snow          rain          sand         cloud          haze  \\\n",
      "count  30533.000000  30533.000000  30533.000000  30533.000000  30533.000000   \n",
      "mean       0.016507      0.451806      0.000852      1.368356      0.009891   \n",
      "std        0.159391      0.792924      0.040459      1.194584      0.098962   \n",
      "min        0.000000      0.000000      0.000000      0.000000      0.000000   \n",
      "25%        0.000000      0.000000      0.000000      0.000000      0.000000   \n",
      "50%        0.000000      0.000000      0.000000      2.000000      0.000000   \n",
      "75%        0.000000      1.000000      0.000000      2.000000      0.000000   \n",
      "max        4.000000      4.000000      3.000000      3.000000      1.000000   \n",
      "\n",
      "                fog          hail           max           min          wind  \\\n",
      "count  30533.000000  30533.000000  30533.000000  30533.000000  30533.000000   \n",
      "mean       0.003996      0.000033      2.626254    -11.254024      2.366524   \n",
      "std        0.063086      0.005723      9.895780     11.878692      0.936052   \n",
      "min        0.000000      0.000000    -34.500000    -51.780000      0.280000   \n",
      "25%        0.000000      0.000000     -4.680000    -19.910000      1.690000   \n",
      "50%        0.000000      0.000000      4.510000     -9.840000      2.170000   \n",
      "75%        0.000000      0.000000     10.630000     -1.210000      2.830000   \n",
      "max        1.000000      1.000000     24.440000     10.799980     11.570000   \n",
      "\n",
      "               lrad          prec           pres          shum          srad  \\\n",
      "count  30533.000000  30533.000000   30533.000000  30533.000000  30533.000000   \n",
      "mean     356.039533      0.145856   98996.569472      0.009917    152.816038   \n",
      "std       65.712326      0.358913    3342.159536      0.007117     82.338936   \n",
      "min      146.490000      0.000000   88687.960000      0.000000     11.780000   \n",
      "25%      310.920000      0.000000   98473.470000      0.000000     80.240000   \n",
      "50%      365.000000      0.020000  100443.740000      0.010000    140.800000   \n",
      "75%      412.390000      0.110000  101035.430000      0.010000    222.910000   \n",
      "max      473.960000      7.330000  103861.610000      0.020000    339.070000   \n",
      "\n",
      "           tempDiff           smb           hml       ret(-1)           ret  \n",
      "count  30533.000000  30533.000000  30533.000000  30533.000000  30533.000000  \n",
      "mean       0.003037      0.000414      0.000051     -0.006070     -0.005942  \n",
      "std        2.330225      0.009219      0.006527      0.014869      0.003226  \n",
      "min      -15.230000     -0.065496     -0.026765     -0.101755     -0.025068  \n",
      "25%       -1.190000     -0.003566     -0.002999     -0.012447     -0.008258  \n",
      "50%        0.210000      0.001246     -0.000169     -0.005967     -0.006155  \n",
      "75%        1.440000      0.005357      0.002793      0.000714     -0.003920  \n",
      "max       10.130000      0.056826      0.050347      0.079067      0.026033  \n",
      "原始数据特征: (30533, 19) ,训练数据特征: (24426, 19) ,测试数据特征: (6107, 19)\n",
      "原始数据标签: (30533,) ,训练数据标签: (24426,) ,测试数据标签: (6107,)\n"
     ]
    }
   ],
   "source": [
    "# print(data[['max','min','wind','lrad','prec','pres',\n",
    "#               'shum','tempDiff','ris','smb','hml','ret(-1)','ret']].corr())\n",
    "\n",
    "exam_df=data[['snow','rain','sand','cloud','haze','fog','hail',\n",
    "              'max','min','wind','lrad','prec','pres',\n",
    "              'shum','srad','tempDiff','ris','smb','hml','ret(-1)','ret']]\n",
    "# exam_df=data[['snow','rain','cloud',\n",
    "#               'max','min','wind','prec','pres',\n",
    "#               'tempDiff','smb','hml','ret(-1)','ret']]\n",
    "# exam_df=exam_df.apply(lambda x : (x-np.min(x))/(np.max(x)-np.min(x)))\n",
    "print(exam_df.describe())\n",
    "exam_X=exam_df[['snow','rain','sand','cloud','haze','fog','hail',\n",
    "              'max','min','wind','lrad','prec','pres',\n",
    "              'shum','srad','tempDiff','ris','smb','hml','ret(-1)']]\n",
    "# exam_X=exam_df[['snow','rain','cloud',\n",
    "#                 'max','min','wind','prec','pres',\n",
    "#                 'tempDiff','smb','hml','ret(-1)']]\n",
    "# exam_X=exam_df[['ris','smb','hml','ret(-1)']]\n",
    "\n",
    "# print(exam_df['srad'].isnull())\n",
    "exam_Y=exam_df['ret']\n",
    "#将原数据集拆分训练集和测试集\n",
    "X_train,X_test,Y_train,Y_test = train_test_split(exam_X,exam_Y,train_size=.8)\n",
    "#X_train为训练数据标签,X_test为测试数据标签,exam_X为样本特征,exam_y为样本标签，train_size 训练数据占比\n",
    "print(\"原始数据特征:\",exam_X.shape,\n",
    "      \",训练数据特征:\",X_train.shape,\n",
    "      \",测试数据特征:\",X_test.shape)\n",
    "print(\"原始数据标签:\",exam_Y.shape,\n",
    "      \",训练数据标签:\",Y_train.shape,\n",
    "      \",测试数据标签:\",Y_test.shape)\n"
   ]
  },
  {
   "cell_type": "code",
   "execution_count": 61,
   "id": "08f92ea0",
   "metadata": {},
   "outputs": [
    {
     "name": "stdout",
     "output_type": "stream",
     "text": [
      "30533\n",
      "30533\n"
     ]
    }
   ],
   "source": [
    "print(len(exam_df.ret))\n",
    "print(len(exam_df['max']))"
   ]
  },
  {
   "cell_type": "code",
   "execution_count": 63,
   "id": "06848af9",
   "metadata": {},
   "outputs": [
    {
     "data": {
      "image/png": "[encoded data removed]",
      "text/plain": [
       "<Figure size 432x288 with 1 Axes>"
      ]
     },
     "metadata": {
      "needs_background": "light"
     },
     "output_type": "display_data"
    },
    {
     "data": {
      "image/png": "[encoded data removed]",
      "text/plain": [
       "<Figure size 432x288 with 1 Axes>"
      ]
     },
     "metadata": {
      "needs_background": "light"
     },
     "output_type": "display_data"
    },
    {
     "data": {
      "image/png": "[encoded data removed]",
      "text/plain": [
       "<Figure size 432x288 with 1 Axes>"
      ]
     },
     "metadata": {
      "needs_background": "light"
     },
     "output_type": "display_data"
    },
    {
     "data": {
      "image/png": "[encoded data removed]",
      "text/plain": [
       "<Figure size 432x288 with 1 Axes>"
      ]
     },
     "metadata": {
      "needs_background": "light"
     },
     "output_type": "display_data"
    },
    {
     "data": {
      "image/png": "[encoded data removed]",
      "text/plain": [
       "<Figure size 432x288 with 1 Axes>"
      ]
     },
     "metadata": {
      "needs_background": "light"
     },
     "output_type": "display_data"
    },
    {
     "data": {
      "image/png": "[encoded data removed]",
      "text/plain": [
       "<Figure size 432x288 with 1 Axes>"
      ]
     },
     "metadata": {
      "needs_background": "light"
     },
     "output_type": "display_data"
    },
    {
     "data": {
      "image/png": "[encoded data removed]",
      "text/plain": [
       "<Figure size 432x288 with 1 Axes>"
      ]
     },
     "metadata": {
      "needs_background": "light"
     },
     "output_type": "display_data"
    },
    {
     "data": {
      "image/png": "[encoded data removed]",
      "text/plain": [
       "<Figure size 432x288 with 1 Axes>"
      ]
     },
     "metadata": {
      "needs_background": "light"
     },
     "output_type": "display_data"
    },
    {
     "data": {
      "image/png": "[encoded data removed]",
      "text/plain": [
       "<Figure size 432x288 with 1 Axes>"
      ]
     },
     "metadata": {
      "needs_background": "light"
     },
     "output_type": "display_data"
    },
    {
     "data": {
      "image/png": "[encoded data removed]",
      "text/plain": [
       "<Figure size 432x288 with 1 Axes>"
      ]
     },
     "metadata": {
      "needs_background": "light"
     },
     "output_type": "display_data"
    },
    {
     "data": {
      "image/png": "[encoded data removed]",
      "text/plain": [
       "<Figure size 432x288 with 1 Axes>"
      ]
     },
     "metadata": {
      "needs_background": "light"
     },
     "output_type": "display_data"
    },
    {
     "data": {
      "image/png": "[encoded data removed]",
      "text/plain": [
       "<Figure size 432x288 with 1 Axes>"
      ]
     },
     "metadata": {
      "needs_background": "light"
     },
     "output_type": "display_data"
    }
   ],
   "source": [
    "#绘制散点图\n",
    "plt.scatter(exam_df.snow,exam_df.ret,color = 'b',label = \"Exam Data\")\n",
    "#添加图的标签（x轴，y轴）\n",
    "plt.xlabel(\"Snow\")\n",
    "plt.ylabel(\"Ret\")\n",
    "#显示图像\n",
    "plt.show()\n",
    "\n",
    "plt.scatter(exam_df.rain,exam_df.ret,color = 'b',label = \"Exam Data\")\n",
    "plt.xlabel(\"Rain\")\n",
    "plt.ylabel(\"Ret\")\n",
    "plt.show()\n",
    "\n",
    "plt.scatter(exam_df.cloud,exam_df.ret,color = 'b',label = \"Exam Data\")\n",
    "plt.xlabel(\"Cloud\")\n",
    "plt.ylabel(\"Ret\")\n",
    "plt.show()\n",
    "\n",
    "plt.scatter(exam_df['max'],exam_df.ret,color = 'b',label = \"Exam Data\")\n",
    "plt.xlabel(\"Max\")\n",
    "plt.ylabel(\"Ret\")\n",
    "plt.show()\n",
    "\n",
    "plt.scatter(exam_df['min'],exam_df.ret,color = 'b',label = \"Exam Data\")\n",
    "plt.xlabel(\"Min\")\n",
    "plt.ylabel(\"Ret\")\n",
    "plt.show()\n",
    "\n",
    "plt.scatter(exam_df.wind,exam_df.ret,color = 'b',label = \"Exam Data\")\n",
    "plt.xlabel(\"Wind\")\n",
    "plt.ylabel(\"Ret\")\n",
    "plt.show()\n",
    "\n",
    "plt.scatter(exam_df.prec,exam_df.ret,color = 'b',label = \"Exam Data\")\n",
    "plt.xlabel(\"Prec\")\n",
    "plt.ylabel(\"Ret\")\n",
    "plt.show()\n",
    "\n",
    "plt.scatter(exam_df.pres,exam_df.ret,color = 'b',label = \"Exam Data\")\n",
    "plt.xlabel(\"Pres\")\n",
    "plt.ylabel(\"Ret\")\n",
    "plt.show()\n",
    "\n",
    "plt.scatter(exam_df.tempDiff,exam_df.ret,color = 'b',label = \"Exam Data\")\n",
    "plt.xlabel(\"tempDiff\")\n",
    "plt.ylabel(\"Ret\")\n",
    "plt.show()\n",
    "\n",
    "plt.scatter(exam_df.smb,exam_df.ret,color = 'b',label = \"Exam Data\")\n",
    "plt.xlabel(\"Smb\")\n",
    "plt.ylabel(\"Ret\")\n",
    "plt.show()\n",
    "\n",
    "plt.scatter(exam_df.hml,exam_df.ret,color = 'b',label = \"Exam Data\")\n",
    "plt.xlabel(\"Hml\")\n",
    "plt.ylabel(\"Ret\")\n",
    "plt.show()\n",
    "\n",
    "plt.scatter(exam_df['ret(-1)'],exam_df.ret,color = 'b',label = \"Exam Data\")\n",
    "plt.xlabel(\"Ret(-1)\")\n",
    "plt.ylabel(\"Ret\")\n",
    "plt.show()"
   ]
  },
  {
   "cell_type": "code",
   "execution_count": 64,
   "id": "a3a5f3b5",
   "metadata": {},
   "outputs": [
    {
     "name": "stdout",
     "output_type": "stream",
     "text": [
      "MSE train: 0.000, test: 0.000\n",
      "R^2 train: 0.952, test: 0.672\n"
     ]
    }
   ],
   "source": [
    "\n",
    "## 随机森林\n",
    "from sklearn.ensemble import RandomForestRegressor\n",
    "import numpy as np\n",
    "import pandas as pd\n",
    "import matplotlib.pyplot as plt\n",
    "from sklearn.metrics import r2_score\n",
    "from sklearn.metrics import mean_squared_error\n",
    "# 评估回归性能\n",
    "# criterion ：\n",
    "# 回归树衡量分枝质量的指标，支持的标准有三种：\n",
    "# 1）输入\"mse\"使用均方误差mean squared error(MSE)，父节点和叶子节点之间的均方误差的差额将被用来作为特征选择的标准，\n",
    "# 这种方法通过使用叶子节点的均值来最小化L2损失\n",
    "# 2）输入“friedman_mse”使用费尔德曼均方误差，这种指标使用弗里德曼针对潜在分枝中的问题改进后的均方误差\n",
    "# 3）输入\"mae\"使用绝对平均误差MAE（mean absolute error），这种指标使用叶节点的中值来最小化L1损失\n",
    "\n",
    "#此处使用mse\n",
    "forest = RandomForestRegressor(n_estimators=100,\n",
    "                               criterion='squared_error',\n",
    "                               random_state=1,\n",
    "                               n_jobs=-1)\n",
    "forest.fit(X_train, Y_train)\n",
    "y_train_pred = forest.predict(X_train)\n",
    "y_test_pred = forest.predict(X_test)\n",
    "\n",
    "print('MSE train: %.3f, test: %.3f' % (\n",
    "        mean_squared_error(Y_train, y_train_pred),\n",
    "        mean_squared_error(Y_test, y_test_pred)))\n",
    "print('R^2 train: %.3f, test: %.3f' % (\n",
    "        r2_score(Y_train, y_train_pred),\n",
    "        r2_score(Y_test, y_test_pred)))\n"
   ]
  },
  {
   "cell_type": "code",
   "execution_count": 56,
   "id": "3773b651",
   "metadata": {},
   "outputs": [
    {
     "name": "stdout",
     "output_type": "stream",
     "text": [
      "最佳拟合线:截距 -0.006956288820966704 ,回归系数： [-4.22950254e-04 -6.75761560e-04  6.17888225e-04 -3.27001923e-04\n",
      "  3.85784329e-04 -1.16608861e-03  2.13587828e-17 -3.47921935e-07\n",
      " -5.42270878e-06 -4.62867001e-05  1.22410214e-06  4.38199288e-04\n",
      "  1.53803413e-08  3.58267645e-02 -2.57821398e-06 -1.96108762e-05\n",
      " -7.63406423e-02  1.18049034e-01  2.26617479e-02]\n",
      "snow : -4.229503e-04\n",
      "rain : -6.757616e-04\n",
      "sand : 6.178882e-04\n",
      "cloud : -3.270019e-04\n",
      "haze : 3.857843e-04\n",
      "fog : -1.166089e-03\n",
      "hail : 2.135878e-17\n",
      "max : -3.479219e-07\n",
      "min : -5.422709e-06\n",
      "wind : -4.628670e-05\n",
      "lrad : 1.224102e-06\n",
      "prec : 4.381993e-04\n",
      "pres : 1.538034e-08\n",
      "shum : 3.582676e-02\n",
      "srad : -2.578214e-06\n",
      "tempDiff : -1.961088e-05\n",
      "smb : -7.634064e-02\n",
      "hml : 1.180490e-01\n",
      "ret(-1) : 2.266175e-02\n",
      "test score: 0.21230011124757975\n"
     ]
    }
   ],
   "source": [
    "##线性回归\n",
    "\n",
    "model = LinearRegression()\n",
    "model.fit(X_train,Y_train)\n",
    "a  = model.intercept_#截距\n",
    "b = model.coef_#回归系数\n",
    "print(\"最佳拟合线:截距\",a,\",回归系数：\",b)\n",
    "flag=0\n",
    "for i in X_train.columns:\n",
    "    print(i,':',\"%e\"%b[flag])\n",
    "    flag+=1\n",
    "\n",
    "#训练数据的预测值\n",
    "y_train_pred = model.predict(X_train)\n",
    "# y_test_pred = model.predict(X_test)\n",
    "score1 = model.score(X_test,Y_test)\n",
    "# score2 = r2_score(Y_test, y_test_pred)\n",
    "print('test score:',score1)\n",
    "# print('r2 score:',score2)"
   ]
  },
  {
   "cell_type": "code",
   "execution_count": 88,
   "id": "f47c64c7",
   "metadata": {},
   "outputs": [
    {
     "data": {
      "text/plain": [
       "['/Users/rumeng/Downloads/qingzang/testModel/LR.pkl']"
      ]
     },
     "execution_count": 88,
     "metadata": {},
     "output_type": "execute_result"
    }
   ],
   "source": [
    "import os\n",
    "import joblib\n",
    " \n",
    "# 创建文件目录\n",
    "dirs = '/Users/rumeng/Downloads/qingzang/testModel'\n",
    "if not os.path.exists(dirs):\n",
    "    os.makedirs(dirs)\n",
    "    \n",
    "# 保存模型\n",
    "joblib.dump(model, dirs+'/LR.pkl')"
   ]
  },
  {
   "cell_type": "code",
   "execution_count": 90,
   "id": "b72b0a67",
   "metadata": {},
   "outputs": [
    {
     "name": "stdout",
     "output_type": "stream",
     "text": [
      "预测结果:\n",
      " [0.62405448 0.51260198 0.43625597 ... 0.54314451 0.46683928 0.63559604]\n",
      "实际结果:\n",
      " 406     0.745782\n",
      "989     0.566048\n",
      "447     0.394817\n",
      "448     0.525676\n",
      "258     0.435642\n",
      "          ...   \n",
      "1052    0.517579\n",
      "833     0.522790\n",
      "583     0.562154\n",
      "1409    0.486642\n",
      "862     0.639449\n",
      "Name: ret, Length: 6107, dtype: float64\n"
     ]
    }
   ],
   "source": [
    "# 读取模型\n",
    "LR = joblib.load(dirs+'/LR.pkl')\n",
    " \n",
    "print('预测结果:\\n', LR.predict(X_test))\n",
    "print('实际结果:\\n', Y_test)"
   ]
  },
  {
   "cell_type": "code",
   "execution_count": null,
   "id": "8beaf995",
   "metadata": {},
   "outputs": [],
   "source": []
  }
 ],
 "metadata": {
  "kernelspec": {
   "display_name": "Python 3 (ipykernel)",
   "language": "python",
   "name": "python3"
  },
  "language_info": {
   "codemirror_mode": {
    "name": "ipython",
    "version": 3
   },
   "file_extension": ".py",
   "mimetype": "text/x-python",
   "name": "python",
   "nbconvert_exporter": "python",
   "pygments_lexer": "ipython3",
   "version": "3.9.12"
  }
 },
 "nbformat": 4,
 "nbformat_minor": 5
}
