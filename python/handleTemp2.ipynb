{
 "cells": [
  {
   "cell_type": "code",
   "execution_count": 4,
   "id": "f6ee8db7",
   "metadata": {},
   "outputs": [],
   "source": [
    "import netCDF4 as nc\n",
    "import numpy as np\n",
    "from netCDF4 import Dataset\n",
    "\n",
    "from os import listdir\n",
    "import dateutil.parser  #引入这个库来将日期字符串转成统一的datatime时间格式\n",
    "\n",
    "import json\n",
    "\n",
    "# 记录城市对应经纬度信息\n",
    "cityDict={'深圳':[],'上海':[],'广州':[],'北京':[],'成都':[],\n",
    "          '杭州':[],'重庆':[],'西安':[],'苏州':[],'武汉':[],\n",
    "          '南京':[],'天津':[],'郑州':[],'长沙':[],'东莞':[],\n",
    "          '佛山':[],'宁波':[],'青岛':[],'沈阳':[],'合肥':[]}\n",
    "with open(\"/Users/rumeng/Downloads/qingzang/test/city.txt\", \"r\") as f:\n",
    "    for line in f.readlines():\n",
    "        line = line.strip('\\n')\n",
    "        for i in cityDict.keys():\n",
    "            if i in line:\n",
    "                pos=line.split()[0]\n",
    "                cityDict[i].append(pos)\n",
    "# 记录城市对应的lon和lat维的索引i j                \n",
    "ijDict={'深圳':[],'上海':[],'广州':[],'北京':[],'成都':[],\n",
    "          '杭州':[],'重庆':[],'西安':[],'苏州':[],'武汉':[],\n",
    "          '南京':[],'天津':[],'郑州':[],'长沙':[],'东莞':[],\n",
    "          '佛山':[],'宁波':[],'青岛':[],'沈阳':[],'合肥':[]}\n",
    "with open(\"/Users/rumeng/Downloads/qingzang/test/ij2city.txt\", \"r\") as f:\n",
    "    for line in f.readlines():\n",
    "        line = line.strip('\\n').split()\n",
    "        ijDict[line[2]].append([int(line[0]),int(line[1])])\n",
    "        \n",
    "\n"
   ]
  },
  {
   "cell_type": "code",
   "execution_count": 5,
   "id": "af8eb315",
   "metadata": {},
   "outputs": [],
   "source": [
    "# 获得每月的天数\n",
    "def getDays(year,month):\n",
    "#     year=int(dateStr[:4])\n",
    "#     month=int(dateStr[4:])\n",
    "    if month in [1,3,5,7,8,10,12]:\n",
    "        return 31\n",
    "    elif month in [4,6,9,11]:\n",
    "        return 30\n",
    "    else:\n",
    "        if year%4!=0:\n",
    "            return 28\n",
    "        elif year%100==0 and year%400!=0:\n",
    "            return 28\n",
    "        else:\n",
    "            return 29"
   ]
  },
  {
   "cell_type": "code",
   "execution_count": 27,
   "id": "ac2e3ddb",
   "metadata": {
    "collapsed": true
   },
   "outputs": [
    {
     "name": "stdout",
     "output_type": "stream",
     "text": [
      "2014 1 31\n",
      "2014 2 28\n",
      "2014 3 31\n",
      "2014 4 30\n",
      "2014 5 31\n",
      "2014 6 30\n",
      "2014 7 31\n",
      "2014 8 31\n",
      "2014 9 30\n",
      "2014 10 31\n",
      "2014 11 30\n",
      "2014 12 31\n",
      "2015 1 31\n",
      "2015 2 28\n",
      "2015 3 31\n",
      "2015 4 30\n",
      "2015 5 31\n",
      "2015 6 30\n",
      "2015 7 31\n",
      "2015 8 31\n",
      "2015 9 30\n",
      "2015 10 31\n",
      "2015 11 30\n",
      "2015 12 31\n",
      "2016 1 31\n",
      "2016 2 29\n",
      "2016 3 31\n",
      "2016 4 30\n",
      "2016 5 31\n",
      "2016 6 30\n",
      "2016 7 31\n",
      "2016 8 31\n",
      "2016 9 30\n",
      "2016 10 31\n",
      "2016 11 30\n",
      "2016 12 31\n",
      "2017 1 31\n",
      "2017 2 28\n",
      "2017 3 31\n",
      "2017 4 30\n",
      "2017 5 31\n",
      "2017 6 30\n",
      "2017 7 31\n",
      "2017 8 31\n",
      "2017 9 30\n",
      "2017 10 31\n",
      "2017 11 30\n",
      "2017 12 31\n",
      "2018 1 31\n",
      "2018 2 28\n",
      "2018 3 31\n",
      "2018 4 30\n",
      "2018 5 31\n",
      "2018 6 30\n",
      "2018 7 31\n",
      "2018 8 31\n",
      "2018 9 30\n",
      "2018 10 31\n",
      "2018 11 30\n",
      "2018 12 31\n"
     ]
    }
   ],
   "source": [
    "path='/Users/rumeng/Downloads/qingzang/forcing_03hr'\n",
    "labelpath='/Users/rumeng/Downloads/qingzang/forcing_03hr/'\n",
    "# path='/Users/rumeng/Downloads'\n",
    "# labelpath='/Users/rumeng/Downloads/'\n",
    "# /Users/rumeng/Downloads/temp_ITPCAS-CMFD_V0106_B-01_03hr_010deg_201306.nc\n",
    "\n",
    "# filelist = listdir(path)\n",
    "\n",
    "data=[]\n",
    "cityDate={}\n",
    "objPath='/Users/rumeng/Downloads/qingzang/result/'\n",
    "yearInfo=['2014','2015','2016','2017','2018']\n",
    "# yearInfo=['2000','2001','2002','2003','2004','2005','2006',\n",
    "#           '2007','2008','2009','2010','2011','2012','2013',\n",
    "#           '2014','2015','2016','2017','2018']\n",
    "# monthInfo=['07','08','09','10','11','12']\n",
    "monthInfo=['01','02','03','04','05','06','07','08','09','10','11','12']\n",
    "fileName='temp_CMFD_V0106_B-01_03hr_010deg_'\n",
    "# fileName='temp_ITPCAS-CMFD_V0106_B-01_03hr_010deg_'\n",
    "for y in yearInfo:\n",
    "    for m in monthInfo:\n",
    "        year=int(y)\n",
    "        month=int(m)\n",
    "# for file in filelist:\n",
    "#     dateStr=file[-9:-3]\n",
    "#     year=int(dateStr[:4])\n",
    "#     month=int(dateStr[4:])\n",
    "        days=getDays(year,month)\n",
    "        print(year,month,days)\n",
    "\n",
    "        data=[]\n",
    "        cityDate={}\n",
    "\n",
    "        ncTemp=Dataset(labelpath+fileName+y+m+'.nc')\n",
    "        time = nc.num2date(ncTemp.variables['time'][:],'hours since 1900-1-1 00:00:00').data\n",
    "\n",
    "        all_times = ncTemp.variables['time']\n",
    "        sdt = dateutil.parser.parse(str(year)+'-'+str(month)+\"-1T00:00:00\")#\"2000-1-1T00:00:00\"\n",
    "        edt = dateutil.parser.parse(str(year)+'-'+str(month)+'-'+str(days)+\"T21:00:00\")#\"2000-1-31T21:00:00\"\n",
    "        st_idx = nc.date2index(sdt, all_times)\n",
    "        et_idx = nc.date2index(edt, all_times)\n",
    "#     print(sdt,edt)\n",
    "#     print(st_idx,et_idx)\n",
    "        temp = ncTemp.variables['temp'][st_idx:et_idx+1,:,:].data\n",
    "    \n",
    "        for city in cityDict.keys():\n",
    "    #         print(city)\n",
    "            for i in ijDict[city]:\n",
    "                for j in range(days*8):\n",
    "            #         print(temp[j][i[0]][i[1]])\n",
    "                    if temp[j][i[0]][i[1]]==-32767:\n",
    "                        continue\n",
    "                    year=time[j].year\n",
    "                    month=time[j].month\n",
    "                    day=time[j].day  \n",
    "                    thisDate=str(year)+'-'+str(month)+'-'+str(day)\n",
    "                    thisTemp=temp[j][i[0]][i[1]]\n",
    "                    if city+thisDate not in cityDate.keys():\n",
    "                        cityDate[city+thisDate]=len(data)\n",
    "                        data.append({\"city\":city,\"date\":thisDate,\"temp\":{\"minTemp\":thisTemp,\"maxTemp\":thisTemp}})\n",
    "                    else:\n",
    "                        if thisTemp>data[cityDate[city+thisDate]][\"temp\"][\"maxTemp\"]:\n",
    "                            data[cityDate[city+thisDate]][\"temp\"][\"maxTemp\"]=thisTemp\n",
    "                        if thisTemp<data[cityDate[city+thisDate]][\"temp\"][\"minTemp\"]:\n",
    "                            data[cityDate[city+thisDate]][\"temp\"][\"minTemp\"]=thisTemp\n",
    "\n",
    "        length=len(data)\n",
    "        for i in range(length):\n",
    "            data[i][\"temp\"][\"maxTemp\"]=str(data[i][\"temp\"][\"maxTemp\"])\n",
    "            data[i][\"temp\"][\"minTemp\"]=str(data[i][\"temp\"][\"minTemp\"])\n",
    "            city=data[i][\"city\"]\n",
    "            j = json.dumps(data[i],ensure_ascii=False)        \n",
    "          # print(j)  \n",
    "            with open(objPath+city+'Temp.json', 'a',encoding='utf-8-sig') as json_file:\n",
    "                json_file.write(j)\n",
    "                json_file.write('\\n') "
   ]
  },
  {
   "cell_type": "code",
   "execution_count": 34,
   "id": "94114199",
   "metadata": {
    "collapsed": true
   },
   "outputs": [
    {
     "data": {
      "text/plain": [
       "\"\\nimport requests\\nkey = 'GjG3XAdmywz7CyETWqHwIuEC6ZExY6QT'\\nfor y in yearInfo:\\n    for m in monthInfo:\\n        print(y,m)\\n        ncTemp=Dataset(labelpath+fileName+y+m+'.nc')\\n        lon=ncTemp.variables['lon'][:]\\n        lat=ncTemp.variables['lat'][:]\\n        \\n        for city in cityDict.keys():\\n            for i in ijDict[city]:\\n                thisLon=lon[i[1]]\\n                thisLat=lat[i[0]]\\n                r = requests.get(url='http://api.map.baidu.com/geocoder/v2/', params={'location':str(thisLat)+','+str(thisLon),'ak':key,'output':'json'})\\n                result = r.json()\\n                thisprovince = result['result']['addressComponent']['province']\\n                thiscity = result['result']['addressComponent']['city']\\n                if city not in thisprovince+thiscity:\\n                    print(i,city,thisprovince+thiscity)\\n\""
      ]
     },
     "execution_count": 34,
     "metadata": {},
     "output_type": "execute_result"
    }
   ],
   "source": [
    "'''\n",
    "import requests\n",
    "key = 'GjG3XAdmywz7CyETWqHwIuEC6ZExY6QT'\n",
    "for y in yearInfo:\n",
    "    for m in monthInfo:\n",
    "        print(y,m)\n",
    "        ncTemp=Dataset(labelpath+fileName+y+m+'.nc')\n",
    "        lon=ncTemp.variables['lon'][:]\n",
    "        lat=ncTemp.variables['lat'][:]\n",
    "        \n",
    "        for city in cityDict.keys():\n",
    "            for i in ijDict[city]:\n",
    "                thisLon=lon[i[1]]\n",
    "                thisLat=lat[i[0]]\n",
    "                r = requests.get(url='http://api.map.baidu.com/geocoder/v2/', params={'location':str(thisLat)+','+str(thisLon),'ak':key,'output':'json'})\n",
    "                result = r.json()\n",
    "                thisprovince = result['result']['addressComponent']['province']\n",
    "                thiscity = result['result']['addressComponent']['city']\n",
    "                if city not in thisprovince+thiscity:\n",
    "                    print(i,city,thisprovince+thiscity)\n",
    "'''               "
   ]
  },
  {
   "cell_type": "code",
   "execution_count": 12,
   "id": "c59f1daf",
   "metadata": {},
   "outputs": [
    {
     "name": "stdout",
     "output_type": "stream",
     "text": [
      "深圳\n",
      "上海\n",
      "广州\n",
      "北京\n",
      "成都\n",
      "杭州\n",
      "重庆\n",
      "西安\n",
      "苏州\n",
      "武汉\n",
      "南京\n",
      "天津\n",
      "郑州\n",
      "长沙\n",
      "东莞\n",
      "佛山\n",
      "宁波\n",
      "青岛\n",
      "沈阳\n",
      "合肥\n"
     ]
    }
   ],
   "source": [
    "# 处理两日间温差 第二天的平均温度-第一天的平均温度\n",
    "sourcePath='/Users/rumeng/Downloads/qingzang/trainSet/climate/'\n",
    "objPath='/Users/rumeng/Downloads/qingzang/trainSet/climate2/'\n",
    "for city in cityDict.keys():\n",
    "    print(city)\n",
    "    with open(sourcePath+city+'.json', 'r',encoding='utf-8-sig') as f:\n",
    "        lines = f.readlines()\n",
    "        wencha = 0\n",
    "        pastAvgTemp =0\n",
    "        for line in lines:\n",
    "            climate=json.loads(line)\n",
    "            avgTemp = (float(climate['temp']['maxTemp'])+float(climate['temp']['minTemp']))/2\n",
    "            if pastAvgTemp==0:\n",
    "                wencha=0\n",
    "            else:\n",
    "                wencha = avgTemp-pastAvgTemp\n",
    "            pastAvgTemp = avgTemp\n",
    "            climate['tempDiff'] = str(round(wencha,2))\n",
    "            j = json.dumps(climate,ensure_ascii=False)     \n",
    "            with open(objPath+city+'.json', 'a',encoding='utf-8-sig') as json_file:\n",
    "                json_file.write(j)\n",
    "                json_file.write('\\n') "
   ]
  },
  {
   "cell_type": "code",
   "execution_count": 8,
   "id": "e375f6c2",
   "metadata": {},
   "outputs": [
    {
     "name": "stdout",
     "output_type": "stream",
     "text": [
      "-11\n"
     ]
    }
   ],
   "source": [
    "wencha1=10\n",
    "wencha2=-11\n",
    "wencha=wencha1 if abs(wencha1)>abs(wencha2) else wencha2\n",
    "print(wencha)"
   ]
  },
  {
   "cell_type": "code",
   "execution_count": null,
   "id": "211d6266",
   "metadata": {},
   "outputs": [],
   "source": []
  }
 ],
 "metadata": {
  "kernelspec": {
   "display_name": "Python 3 (ipykernel)",
   "language": "python",
   "name": "python3"
  },
  "language_info": {
   "codemirror_mode": {
    "name": "ipython",
    "version": 3
   },
   "file_extension": ".py",
   "mimetype": "text/x-python",
   "name": "python",
   "nbconvert_exporter": "python",
   "pygments_lexer": "ipython3",
   "version": "3.9.12"
  },
  "varInspector": {
   "cols": {
    "lenName": 16,
    "lenType": 16,
    "lenVar": 40
   },
   "kernels_config": {
    "python": {
     "delete_cmd_postfix": "",
     "delete_cmd_prefix": "del ",
     "library": "var_list.py",
     "varRefreshCmd": "print(var_dic_list())"
    },
    "r": {
     "delete_cmd_postfix": ") ",
     "delete_cmd_prefix": "rm(",
     "library": "var_list.r",
     "varRefreshCmd": "cat(var_dic_list()) "
    }
   },
   "types_to_exclude": [
    "module",
    "function",
    "builtin_function_or_method",
    "instance",
    "_Feature"
   ],
   "window_display": false
  }
 },
 "nbformat": 4,
 "nbformat_minor": 5
}
